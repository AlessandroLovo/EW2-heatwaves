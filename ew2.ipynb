{
 "cells": [
  {
   "cell_type": "markdown",
   "metadata": {},
   "source": [
    "# Machine Learning prediction of heatwaves\n",
    "**Alessandro Lovo and George Miloshevich**\n",
    "\n",
    "*To see equations in this file you may need Markdown Math extension on your vs code for example...*\n",
    "\n",
    "Below we will need some standard routines but we also introduce utilities.py that allows more efficient processing of dictionaries and json files for example."
   ]
  },
  {
   "cell_type": "code",
   "execution_count": 3,
   "metadata": {},
   "outputs": [],
   "source": [
    "import numpy as np\n",
    "import matplotlib.pyplot as plt\n",
    "import pandas as pd\n",
    "import xarray as xr\n",
    "import os\n",
    "from pathlib import Path\n",
    "\n",
    "import utilities as ut"
   ]
  },
  {
   "cell_type": "markdown",
   "metadata": {},
   "source": [
    "# Data"
   ]
  },
  {
   "cell_type": "markdown",
   "metadata": {},
   "source": [
    "## Fetch the data\n",
    "\n",
    "The first procedure involves downloading the data to the local space which we have hosted on owncloud"
   ]
  },
  {
   "cell_type": "code",
   "execution_count": 2,
   "metadata": {},
   "outputs": [],
   "source": [
    "data_info_dict = ut.json2dict('data_info.json')\n",
    "\n",
    "def fetch(name, destination='./data', reload=False):\n",
    "    destination = Path(destination).resolve()\n",
    "    if not os.path.exists(destination):\n",
    "        destination.mkdir(parents=True)\n",
    "\n",
    "    if name.endswith('.nc'):\n",
    "        name = name[:-3]\n",
    "\n",
    "    file = destination / f'{name}.nc'\n",
    "    if not os.path.exists(file) or reload:\n",
    "        try:\n",
    "            link = data_info_dict[name]['link']\n",
    "        except KeyError:\n",
    "            raise KeyError(f'No item {name} in data_info.json')\n",
    "        os.system(f\"wget -O {file} \\\"{link}\\\"\")\n",
    "    else:\n",
    "        print('file already loaded')"
   ]
  },
  {
   "cell_type": "markdown",
   "metadata": {},
   "source": [
    "## Working with climate data\n",
    "We need to understand how the data looks, whether there are some outright anomalies, lest we succumb to the consequences of the principle:\n",
    "> ``garbage in garbage out''\n",
    ">\n",
    "> Used to express the idea that in computing and other spheres, incorrect or poor quality input will always produce faulty output (often abbreviated as GIGO). The saying is recorded from the mid 20th century."
   ]
  },
  {
   "cell_type": "markdown",
   "metadata": {},
   "source": [
    "### Plasim data\n",
    "* Look at some overall statistics, mean, std, etc\n",
    "\n",
    "    - t2m: two meter temperature\n",
    "    - zg500: 500 mbar geopotential\n",
    "    - mrso: soil moisture\n",
    "    \n",
    "* plot few times with geocontour and geocontourf that we provide"
   ]
  },
  {
   "cell_type": "markdown",
   "metadata": {},
   "source": [
    "### Area integrals\n",
    "* Define the area of France (or some other place)\n",
    "$$\n",
    "\\alpha(t):=\\frac{1}{|\\mathcal{D}|} \\int_{D}\\left(T_{2m}-\\mathbb{E}\\left(T_{2m}\\right)\\right)(\\vec{r}, u) \\mathrm{d} \\vec{r} \\mathrm{~d} u\n",
    "$$\n",
    "* Compute area intregrals\n",
    "* Look at the time series, statistics, mean, std\n",
    "* Compute the running mean of T-days (T=14 days)\n",
    "    $$\n",
    "        A(t):=\\frac{1}{T} \\int_{t}^{t+T} \\alpha(t)  \n",
    "    $$"
   ]
  },
  {
   "cell_type": "markdown",
   "metadata": {},
   "source": [
    "## Define labels \n",
    "* Define heat wave labels (Choose 95 percentile of $A(t)$ for example)\n",
    "---"
   ]
  },
  {
   "cell_type": "markdown",
   "metadata": {},
   "source": [
    "# Machine Learning\n",
    "\n",
    "### Probabilistic Prediction\n",
    "* Familiarize yourself with skill scores\n",
    "    - Brier score:\n",
    "        $$ \n",
    "            S=\\frac{1}{2}\\sum_{k=0}^{K-1}\\left[\\delta_{Y,k}-\\hat{p}_{k}(X)\\right]^{2}\n",
    "        $$\n",
    "    - Logarithmic score\n",
    "    - Matthew's Correlation Coefficient ($\\phi$-coefficient)\n",
    "* The goal is to predict probabilities"
   ]
  },
  {
   "cell_type": "markdown",
   "metadata": {},
   "source": [
    "### Simple classifier\n",
    "Before trying something complex always resort to good-old techniques to see what can be achieved without much effort\n",
    "* Perform train-validation-test \n",
    "* Try undersampling the negative labels to accelerate learning and save some RAM\n",
    "* Logistic regression, Naive Bayes, kNN, etc\n",
    "* See what can be achieved with simple persistance\n",
    "* Try using soil moisture or geopotential in the same spirit"
   ]
  },
  {
   "cell_type": "markdown",
   "metadata": {},
   "source": [
    "# Neural networks\n",
    "\n",
    "### Convolutional Neural Network\n",
    "* Design a simple CNN architecture with a dense layer and sigmoid/softmax output\n",
    "* Start by providing input with 2-meter temperature, or geopotential (results will vary)\n",
    "* Normalize the original data (try different ways)\n",
    "* Put the data through the pipeline and train the network"
   ]
  },
  {
   "cell_type": "markdown",
   "metadata": {},
   "source": [
    "# Hyperparameter optimization\n",
    "\n",
    "* Try stacking different fields together\n",
    "* Implement early stopping to save time\n",
    "\n",
    "You can try performing grid-search, random-search or bayesian-search using optuna (recommended)"
   ]
  },
  {
   "cell_type": "markdown",
   "metadata": {},
   "source": [
    "### optimization using `optuna`"
   ]
  },
  {
   "cell_type": "code",
   "execution_count": 2,
   "metadata": {},
   "outputs": [],
   "source": [
    "import optuna"
   ]
  },
  {
   "cell_type": "code",
   "execution_count": null,
   "metadata": {},
   "outputs": [],
   "source": [
    "def objective(trial):\n",
    "    x = trial.suggest_float('x', -10, 10)\n",
    "    return (x - 2) ** 2\n",
    "\n",
    "study = optuna.create_study()\n",
    "\n",
    "study.optimize(objective, n_trials=100)\n"
   ]
  }
 ],
 "metadata": {
  "interpreter": {
   "hash": "07b665c933ae35d0fc22e8b5988b84554f26bb968a683e60ed7e11394e6ead53"
  },
  "kernelspec": {
   "display_name": "py3.9",
   "language": "python",
   "name": "py3.9"
  },
  "language_info": {
   "codemirror_mode": {
    "name": "ipython",
    "version": 3
   },
   "file_extension": ".py",
   "mimetype": "text/x-python",
   "name": "python",
   "nbconvert_exporter": "python",
   "pygments_lexer": "ipython3",
   "version": "3.9.10"
  },
  "orig_nbformat": 4
 },
 "nbformat": 4,
 "nbformat_minor": 2
}
